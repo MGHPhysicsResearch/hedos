{
 "cells": [
  {
   "cell_type": "code",
   "execution_count": 1,
   "metadata": {},
   "outputs": [],
   "source": [
    "import os\n",
    "import sys\n",
    "sys.path.append('..')\n",
    "\n",
    "import matplotlib.pyplot as plt\n",
    "import numpy as np\n",
    "import pandas as pd\n",
    "\n",
    "from blooddvh import CompartmentModel\n",
    "from blooddvh import BloodDistribution\n",
    "from blooddvh import tDVH\n",
    "from blooddvh import bDVH"
   ]
  },
  {
   "cell_type": "markdown",
   "metadata": {},
   "source": [
    "# Generate a transition matrix of body compartments for the blood particles to move between"
   ]
  },
  {
   "cell_type": "code",
   "execution_count": 2,
   "metadata": {},
   "outputs": [],
   "source": [
    "steps_per_min = 60  # Number of steps per min, e.g., step resolutions are 1 sec and 0.1 sec for 60 and 600, respectively\n",
    "model = CompartmentModel(os.path.join('..', 'input', 'ICRP89_compartment_model.xlsx'), 'male', vol=5.3, cardiac=6.5, resolution=steps_per_min)"
   ]
  },
  {
   "cell_type": "markdown",
   "metadata": {},
   "source": [
    "# Create a blood distribution simulation from the body compartment model"
   ]
  },
  {
   "cell_type": "code",
   "execution_count": 3,
   "metadata": {},
   "outputs": [
    {
     "name": "stdout",
     "output_type": "stream",
     "text": [
      "Time to generate blood distribution: 1.224727 seconds\n"
     ]
    }
   ],
   "source": [
    "blood_dist = BloodDistribution()\n",
    "time_per_step = 1   # seconds\n",
    "sample_size = 100   # the number of blood particles to simulate\n",
    "blood_dist.generate_from_markov(model.markov, model.name, model.volume, time_per_step, sample_size, steps_per_min)"
   ]
  },
  {
   "cell_type": "markdown",
   "metadata": {},
   "source": [
    "# Simulate some dose fields"
   ]
  },
  {
   "cell_type": "code",
   "execution_count": 4,
   "metadata": {},
   "outputs": [],
   "source": [
    "dose = tDVH()\n",
    "# First 10 sec, 2 Gy uniform\n",
    "dose.add(10, lambda x: 2)\n",
    "# Next 10 sec, no dose\n",
    "dose.add(10, None)\n",
    "# Next 10 sec, 5 Gy uniform\n",
    "dose.add(10, lambda x: 5)"
   ]
  },
  {
   "cell_type": "markdown",
   "metadata": {},
   "source": [
    "# Apply the dose fields to some organs and graph the resulting bDVH"
   ]
  },
  {
   "cell_type": "code",
   "execution_count": 5,
   "metadata": {},
   "outputs": [
    {
     "name": "stdout",
     "output_type": "stream",
     "text": [
      "[(0, 'brain'), (1, 'thyroid'), (2, 'breast'), (3, 'lymph_nodes'), (4, 'large_veins'), (5, 'all_other'), (6, 'fat'), (7, 'skeletal_muscle'), (8, 'adrenals'), (9, 'skin'), (10, 'red_marrow'), (11, 'spongy_bone'), (12, 'compact_bone'), (13, 'other_skeleton'), (14, 'bronchial'), (15, 'pulmonary'), (16, 'right_heart'), (17, 'left_heart'), (18, 'coronary'), (19, 'liver'), (20, 'kidneys'), (21, 'bladder'), (22, 'gonads'), (23, 'aorta_large_arteries'), (24, 'pancreas'), (25, 'spleen'), (26, 'stomach_oesophagus'), (27, 'small_intestine'), (28, 'large_intestine')]\n"
     ]
    },
    {
     "data": {
      "text/plain": [
       "Text(0, 0.5, '# of Events')"
      ]
     },
     "execution_count": 5,
     "metadata": {},
     "output_type": "execute_result"
    },
    {
     "data": {
      "image/png": "[encoded data removed]",
      "text/plain": [
       "<Figure size 720x432 with 1 Axes>"
      ]
     },
     "metadata": {
      "needs_background": "light"
     },
     "output_type": "display_data"
    }
   ],
   "source": [
    "# To choose an organ where the dose is delivered\n",
    "print(list(zip(range(len(model.name)), model.name)))\n",
    "blood_dose = bDVH(blood_dist.df, blood_dist.dt)\n",
    "# Add dose to Liver\n",
    "blood_dose.add_dose(dose, 19, start_time=0)\n",
    "blood_dose.add_dose(dose, 19, start_time=4)\n",
    "# Add dose to Brain\n",
    "blood_dose.add_dose(dose, 0, start_time=0)\n",
    "# Draw your blood DVH (differential)\n",
    "plt.figure(figsize=(10,6))\n",
    "plt.hist(blood_dose.dose)\n",
    "plt.xlabel('Dose (Gy)', fontsize=16)\n",
    "plt.ylabel('# of Events', fontsize=16)"
   ]
  },
  {
   "cell_type": "markdown",
   "metadata": {},
   "source": [
    "# Save the blood distribution to an Excel sheet"
   ]
  },
  {
   "cell_type": "code",
   "execution_count": 7,
   "metadata": {},
   "outputs": [],
   "source": [
    "blood_dist.save('test_BP_path.xlsx', 'test')"
   ]
  },
  {
   "cell_type": "markdown",
   "metadata": {},
   "source": [
    "# Let's do an example from extracted DVHs"
   ]
  },
  {
   "cell_type": "code",
   "execution_count": 8,
   "metadata": {},
   "outputs": [
    {
     "name": "stdout",
     "output_type": "stream",
     "text": [
      "test.bin\n",
      "[('V0', 100.0), ('V0_Dmean', 6.0577150054107936), ('V0_Dstd', 1.1403569464828207), ('V0.5', 100.0), ('V0.5_Dmean', 6.0577150054107936), ('V0.5_Dstd', 1.1403569464828207), ('V1.0', 100.0), ('V1.0_Dmean', 6.0577150054107936), ('V1.0_Dstd', 1.1403569464828207), ('V2.0', 100.0), ('V2.0_Dmean', 6.0577150054107936), ('V2.0_Dstd', 1.1403569464828207), ('D2%', 8.553022969933128), ('D2%_Dmean', 8.726898615490201), ('D2%_Dstd', 0.17387564555707336), ('D3%', 8.526402737651999), ('D3%_Dmean', 8.6600666562108), ('D3%_Dstd', 0.17055257735032803)]\n"
     ]
    }
   ],
   "source": [
    "# Read the DVH\n",
    "DVH_FILE_PATH = 'test_dvh.csv'\n",
    "df = pd.read_csv(DVH_FILE_PATH, skiprows=0)\n",
    "dose_bins = np.array(df.iloc[:,0])\n",
    "organs = df.columns[1:].tolist()\n",
    "\n",
    "# Create the BP distribution and read in a pre-generated output\n",
    "BP = BloodDistribution()\n",
    "BP.read_from_excel(\n",
    "    f_name='test_BP_path.xlsx', # 'test_male.xlsx',\n",
    "    t_name='test'               # 'test_100k_10min_w2_cv'\n",
    ")\n",
    "\n",
    "# Set the initial fractionation and dosing\n",
    "N_FRACTIONS = 15\n",
    "dose_per_fraction = ((1/N_FRACTIONS) * dose_bins).tolist()\n",
    "\n",
    "# Calculate bDVH per courses\n",
    "blood_dose = bDVH(BP.df, BP.dt)\n",
    "\n",
    "# Per-DVH\n",
    "comp_dose = []\n",
    "comp_id = []\n",
    "for i,c in enumerate(organs):\n",
    "    vol = np.array(df.iloc[:,i+1])\n",
    "    dvh_combined = np.vstack((dose_per_fraction, vol)).transpose()\n",
    "    # Get the compartment ID\n",
    "    cid = BP.names.index(c)\n",
    "    # Create a beam\n",
    "    beam = tDVH()\n",
    "    beam_on_time = 60   # s\n",
    "    beam.add_array(beam_on_time, dvh_combined)\n",
    "    # Append the beam dose and compartment ID to composite\n",
    "    comp_dose.append(beam)\n",
    "    comp_id.append(cid)\n",
    "\n",
    "# Apply course\n",
    "blood_dose.add_dose(comp_dose, comp_id, 0, N_FRACTIONS)\n",
    "\n",
    "# Print the results\n",
    "d0 = blood_dose.volume_gt_dose(0)\n",
    "d1 = blood_dose.volume_gt_dose(0.5)\n",
    "d2 = blood_dose.volume_gt_dose(1.0)\n",
    "d3 = blood_dose.volume_gt_dose(2.0)\n",
    "v0 = blood_dose.dose_at_top_volume(2.0)\n",
    "v1 = blood_dose.dose_at_top_volume(3.0)\n",
    "output_columns=['V0', 'V0_Dmean', 'V0_Dstd',\n",
    "                'V0.5', 'V0.5_Dmean', 'V0.5_Dstd',\n",
    "                'V1.0', 'V1.0_Dmean', 'V1.0_Dstd',\n",
    "                'V2.0', 'V2.0_Dmean', 'V2.0_Dstd',\n",
    "                'D2%', 'D2%_Dmean', 'D2%_Dstd',\n",
    "                'D3%', 'D3%_Dmean', 'D3%_Dstd']\n",
    "output_data = [d0[0], d0[1], d0[2],\n",
    "               d1[0], d1[1], d1[2],\n",
    "               d2[0], d2[1], d2[2],\n",
    "               d3[0], d3[1], d3[2],\n",
    "               v0[0], v0[1], v0[2],\n",
    "               v1[0], v1[1], v1[2]]\n",
    "print(list(zip(output_columns, output_data)))"
   ]
  }
 ],
 "metadata": {
  "kernelspec": {
   "display_name": "Python 3.8.2 ('env': venv)",
   "language": "python",
   "name": "python3"
  },
  "language_info": {
   "codemirror_mode": {
    "name": "ipython",
    "version": 3
   },
   "file_extension": ".py",
   "mimetype": "text/x-python",
   "name": "python",
   "nbconvert_exporter": "python",
   "pygments_lexer": "ipython3",
   "version": "3.8.2"
  },
  "orig_nbformat": 4,
  "vscode": {
   "interpreter": {
    "hash": "e35950bcb4c1984e96adc8d44141d878c0a3a6e9aa5c1394f57c3abc1e7f64d9"
   }
  }
 },
 "nbformat": 4,
 "nbformat_minor": 2
}
